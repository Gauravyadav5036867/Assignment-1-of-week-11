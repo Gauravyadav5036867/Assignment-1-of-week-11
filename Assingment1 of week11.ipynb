{
 "cells": [
  {
   "cell_type": "code",
   "execution_count": 1,
   "id": "0c98b4f2-e5e9-4df3-ad12-6769387ab9b3",
   "metadata": {},
   "outputs": [],
   "source": [
    "#Question 1"
   ]
  },
  {
   "cell_type": "code",
   "execution_count": null,
   "id": "3515131e-a21f-4d2b-adc2-54e03c6868da",
   "metadata": {},
   "outputs": [],
   "source": [
    "probability density function (PDF), in statistics, a function whose integral is calculated to find probabilities associated with a continuous random variable (see continuity; probability theory). Its graph is a curve above the horizontal axis that defines a total area, between itself and the axis, of 1"
   ]
  },
  {
   "cell_type": "code",
   "execution_count": 2,
   "id": "2a6e6f7c-d8fe-45fd-95e8-d3b809fe74ea",
   "metadata": {},
   "outputs": [],
   "source": [
    "#Question 2"
   ]
  },
  {
   "cell_type": "code",
   "execution_count": null,
   "id": "1a9691ef-87d3-4065-9a7b-1187359dd865",
   "metadata": {},
   "outputs": [],
   "source": [
    "There are six types of probability function\n",
    "1. Normal/Gaussian distribution\n",
    "2. Bernoulli Distribution\n",
    "3. Uniform Distribution\n",
    "4. Poisson Distribution\n",
    "5. Log Normal distribution\n",
    "6. Binomial Distribution"
   ]
  },
  {
   "cell_type": "code",
   "execution_count": 3,
   "id": "65343b74-c1e3-411b-9845-441ce1eb8b71",
   "metadata": {},
   "outputs": [],
   "source": [
    "#Question 3"
   ]
  },
  {
   "cell_type": "code",
   "execution_count": null,
   "id": "a2e4cca6-59f7-495b-b207-b87ff09b0beb",
   "metadata": {},
   "outputs": [],
   "source": [
    "import math\n",
    "\n",
    "def normal_pdf(x, mean, std_dev):\n",
    "    \"\"\"\n",
    "    Calculate the probability density function (PDF) of a normal distribution at a given point.\n",
    "\n",
    "    :param x: The point at which to calculate the PDF.\n",
    "    :param mean: The mean (average) of the normal distribution.\n",
    "    :param std_dev: The standard deviation of the normal distribution.\n",
    "    :return: The PDF at the given point.\n",
    "    \"\"\"\n",
    "    if std_dev <= 0:\n",
    "        raise ValueError(\"Standard deviation (std_dev) must be greater than 0\")\n",
    "    \n",
    "    exponent = -((x - mean) ** 2) / (2 * std_dev ** 2)\n",
    "    pdf = (1 / (std_dev * math.sqrt(2 * math.pi))) * math.exp(exponent)\n",
    "    return pdf\n",
    "\n",
    "# Example usage:\n",
    "mean = 0.0\n",
    "std_dev = 1.0\n",
    "x = 1.5\n",
    "pdf_at_x = normal_pdf(x, mean, std_dev)\n",
    "print(f\"PDF at x = {x}: {pdf_at_x:.4f}\")\n"
   ]
  },
  {
   "cell_type": "code",
   "execution_count": 4,
   "id": "f07572ac-b8f1-47e8-affb-b4265519bed4",
   "metadata": {},
   "outputs": [],
   "source": [
    "#Question 4"
   ]
  },
  {
   "cell_type": "code",
   "execution_count": null,
   "id": "b37719dd-db5d-467a-9c8a-5d6db2092723",
   "metadata": {},
   "outputs": [],
   "source": [
    "A binomial experiment is one that has the following properties: (1) The experiment consists of n identical trials. (2) Each trial results in one of the two outcomes, called a success S and failure F. (3) The probability of success on a single trial is equal to p and remains the same from trial to trial."
   ]
  },
  {
   "cell_type": "code",
   "execution_count": null,
   "id": "f1893b59-4f2a-4ed8-b0a2-a7a78a357aba",
   "metadata": {},
   "outputs": [],
   "source": [
    "when tossing a coin, the probability of flipping a coin is ½ or 0.5 for every trial we conduct, since there are only two possible outcomes."
   ]
  },
  {
   "cell_type": "code",
   "execution_count": 5,
   "id": "dd908458-fbf4-4a0f-931e-bb77e1834e7c",
   "metadata": {},
   "outputs": [],
   "source": [
    "#Question 5"
   ]
  },
  {
   "cell_type": "code",
   "execution_count": null,
   "id": "179be656-ebc6-45f3-b18b-0b6df7c7835f",
   "metadata": {},
   "outputs": [],
   "source": [
    "import numpy as np\n",
    "import matplotlib.pyplot as plt\n",
    "\n",
    "# Set the parameters for the binomial distribution\n",
    "n = 10  # Number of trials\n",
    "p = 0.4  # Probability of success\n",
    "\n",
    "# Generate a random sample of size 1000 from the binomial distribution\n",
    "sample_size = 1000\n",
    "random_sample = np.random.binomial(n, p, sample_size)\n",
    "\n",
    "# Create a histogram of the random sample\n",
    "plt.hist(random_sample, bins=np.arange(0, n + 2) - 0.5, density=True, alpha=0.5, color='blue', edgecolor='black')\n",
    "plt.xticks(range(n + 1))\n",
    "plt.xlabel(\"Number of Successes\")\n",
    "plt.ylabel(\"Probability\")\n",
    "plt.title(f\"Binomial Distribution (n={n}, p={p}) - Sample Size: {sample_size}\")\n",
    "plt.grid(axis='y', linestyle='--', alpha=0.7)\n",
    "plt.show()\n"
   ]
  },
  {
   "cell_type": "code",
   "execution_count": 6,
   "id": "82e6074b-d849-4cf3-bd5a-e436a87a816a",
   "metadata": {},
   "outputs": [],
   "source": [
    "#Question 6"
   ]
  },
  {
   "cell_type": "code",
   "execution_count": null,
   "id": "bf90d399-44a5-4042-b44a-e1ed3e14da25",
   "metadata": {},
   "outputs": [],
   "source": [
    "import math\n",
    "\n",
    "def poisson_cdf(x, mean):\n",
    "    \"\"\"\n",
    "    Calculate the cumulative distribution function (CDF) of a Poisson distribution at a given point.\n",
    "\n",
    "    :param x: The point at which to calculate the CDF.\n",
    "    :param mean: The mean (average) of the Poisson distribution.\n",
    "    :return: The CDF at the given point.\n",
    "    \"\"\"\n",
    "    if x < 0:\n",
    "        return 0.0  # CDF is 0 for negative values\n",
    "\n",
    "    cdf = 0.0\n",
    "    for k in range(x + 1):\n",
    "        cdf += (math.exp(-mean) * mean ** k) / math.factorial(k)\n",
    "\n",
    "    return cdf\n",
    "\n",
    "# Example usage:\n",
    "mean = 2.5\n",
    "x = 3\n",
    "cdf_at_x = poisson_cdf(x, mean)\n",
    "print(f\"CDF at x = {x}: {cdf_at_x:.4f}\")\n"
   ]
  },
  {
   "cell_type": "code",
   "execution_count": 7,
   "id": "a1d65a42-e193-4299-92d6-c94778df6b91",
   "metadata": {},
   "outputs": [],
   "source": [
    "#Question 7"
   ]
  },
  {
   "cell_type": "code",
   "execution_count": null,
   "id": "67f2f336-9413-451c-99aa-adecb18d242b",
   "metadata": {},
   "outputs": [],
   "source": [
    "Binomial distribution describes the distribution of binary data from a finite sample. Thus it gives the probability of getting r events out of n trials. Poisson distribution describes the distribution of binary data from an infinite sample. Thus it gives the probability of getting r events in a population."
   ]
  },
  {
   "cell_type": "code",
   "execution_count": 8,
   "id": "c8c9f9c2-3b17-4445-ae73-ebd12a8811de",
   "metadata": {},
   "outputs": [],
   "source": [
    "#Question 8"
   ]
  },
  {
   "cell_type": "code",
   "execution_count": null,
   "id": "642addee-c92f-46b7-aa13-7baccdb995dd",
   "metadata": {},
   "outputs": [],
   "source": [
    "import numpy as np\n",
    "\n",
    "# Set the parameters for the Poisson distribution\n",
    "mean = 5\n",
    "sample_size = 1000\n",
    "\n",
    "# Generate a random sample from the Poisson distribution\n",
    "random_sample = np.random.poisson(mean, sample_size)\n",
    "\n",
    "# Calculate the sample mean\n",
    "sample_mean = np.mean(random_sample)\n",
    "\n",
    "# Calculate the sample variance\n",
    "sample_variance = np.var(random_sample)\n",
    "\n",
    "print(f\"Sample Mean: {sample_mean:.4f}\")\n",
    "print(f\"Sample Variance: {sample_variance:.4f}\")\n"
   ]
  },
  {
   "cell_type": "code",
   "execution_count": 11,
   "id": "404fdce3-4656-436c-a78d-ca661d374df2",
   "metadata": {},
   "outputs": [],
   "source": [
    "#Question 9"
   ]
  },
  {
   "cell_type": "code",
   "execution_count": null,
   "id": "fd029650-fad1-4525-bf64-5e31dba174b6",
   "metadata": {},
   "outputs": [],
   "source": [
    "The mean of the binomial distribution is always equal to p, and the variance is always equal to pq/N. Moreover, for reasonable sample sizes and for values of p between about . 20 and . 80, the distribution is roughly normally distributed."
   ]
  },
  {
   "cell_type": "code",
   "execution_count": 12,
   "id": "8d8ab642-56b4-4102-aade-333a2a1c8de8",
   "metadata": {},
   "outputs": [],
   "source": [
    "#Question 10"
   ]
  },
  {
   "cell_type": "code",
   "execution_count": null,
   "id": "b5b7c4a6-3d5b-4b94-b4c9-b7a33d75a4aa",
   "metadata": {},
   "outputs": [],
   "source": []
  }
 ],
 "metadata": {
  "kernelspec": {
   "display_name": "Python 3 (ipykernel)",
   "language": "python",
   "name": "python3"
  },
  "language_info": {
   "codemirror_mode": {
    "name": "ipython",
    "version": 3
   },
   "file_extension": ".py",
   "mimetype": "text/x-python",
   "name": "python",
   "nbconvert_exporter": "python",
   "pygments_lexer": "ipython3",
   "version": "3.10.8"
  }
 },
 "nbformat": 4,
 "nbformat_minor": 5
}
